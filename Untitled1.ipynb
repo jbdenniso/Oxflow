{
 "cells": [
  {
   "cell_type": "code",
   "execution_count": 11,
   "id": "bbd906e9",
   "metadata": {},
   "outputs": [
    {
     "data": {
      "text/plain": [
       "[3200, 3300, 3400, 3500, 3600, 3700, 3800, 3900, 4000, 4100]"
      ]
     },
     "execution_count": 11,
     "metadata": {},
     "output_type": "execute_result"
    }
   ],
   "source": []
  },
  {
   "cell_type": "code",
   "execution_count": null,
   "id": "7bb64746",
   "metadata": {},
   "outputs": [],
   "source": []
  }
 ],
 "metadata": {
  "kernelspec": {
   "display_name": "Python 3 (ipykernel)",
   "language": "python",
   "name": "python3"
  },
  "language_info": {
   "codemirror_mode": {
    "name": "ipython",
    "version": 3
   },
   "file_extension": ".py",
   "mimetype": "text/x-python",
   "name": "python",
   "nbconvert_exporter": "python",
   "pygments_lexer": "ipython3",
   "version": "3.11.4"
  }
 },
 "nbformat": 4,
 "nbformat_minor": 5
}
